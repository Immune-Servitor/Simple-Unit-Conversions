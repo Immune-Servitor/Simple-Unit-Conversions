{
 "cells": [
  {
   "cell_type": "code",
   "execution_count": 8,
   "metadata": {},
   "outputs": [],
   "source": [
    "def min_to_hrs(minutes):\n",
    "    \"\"\"Converts Minutes to Hours\"\"\"\n",
    "    hours = minutes/60\n",
    "    return hours\n",
    "def hrs_to_min(hours):\n",
    "    \"\"\"Converts Hours to Minutes\"\"\"\n",
    "    minutes = hours * 60\n",
    "    return minutes\n"
   ]
  },
  {
   "cell_type": "code",
   "execution_count": 16,
   "metadata": {},
   "outputs": [
    {
     "name": "stdout",
     "output_type": "stream",
     "text": [
      "Enter your minutes: 1\n",
      "Your minutes converted to hours: 0.016666666666666666 hrs\n",
      "Enter your hours: 5\n",
      "Your hours converted to minutes: 300 min\n"
     ]
    }
   ],
   "source": [
    "#Have the user input a value for there minutes\n",
    "#I added int in front of the input to to convert it to integer \n",
    "myMinutes = int(input(\"Enter your minutes: \"))\n",
    "print(\"Your minutes converted to hours:\", min_to_hrs(myMinutes), \"hrs\")\n",
    "\n",
    "myHours = int(input(\"Enter your hours: \"))\n",
    "print(\"Your hours converted to minutes:\", hrs_to_min(myHours), \"min\")"
   ]
  },
  {
   "cell_type": "code",
   "execution_count": 21,
   "metadata": {},
   "outputs": [],
   "source": [
    "#But what if we want other conversions\n",
    "#Imperial to Metric system\n",
    "def inch_to_cm(inches):\n",
    "    \"\"\"Converts inches to centimeters\"\"\"\n",
    "    cm = inches * 2.54\n",
    "    return cm\n",
    "\n",
    "def cm_to_inch(cm):\n",
    "    \"\"\"Converts Centimeters to Inches\"\"\"\n",
    "    inches = cm / 2.54\n",
    "    return inches\n",
    "\n",
    "def pound_to_kilogram(pound):\n",
    "    \"\"\"Converts Pound to Kilograms\"\"\"\n",
    "    grams = pound * .453592\n",
    "    return grams"
   ]
  },
  {
   "cell_type": "code",
   "execution_count": 22,
   "metadata": {},
   "outputs": [
    {
     "name": "stdout",
     "output_type": "stream",
     "text": [
      "Enter your inches: 2\n",
      "Your inches converted to centimeters: 5.08 cm\n",
      "Enter your centimeters: 5\n",
      "Your centimeters converted to inches: 1.968503937007874 in\n"
     ]
    }
   ],
   "source": [
    "inches = float(input(\"Enter your inches: \"))\n",
    "print(\"Your inches converted to centimeters:\", inch_to_cm(inches), \"cm\")\n",
    "\n",
    "cm = float(input(\"Enter your centimeters: \"))\n",
    "print(\"Your centimeters converted to inches:\", cm_to_inch(cm), \"in\")"
   ]
  },
  {
   "cell_type": "code",
   "execution_count": null,
   "metadata": {},
   "outputs": [],
   "source": []
  }
 ],
 "metadata": {
  "kernelspec": {
   "display_name": "Python 3",
   "language": "python",
   "name": "python3"
  },
  "language_info": {
   "codemirror_mode": {
    "name": "ipython",
    "version": 3
   },
   "file_extension": ".py",
   "mimetype": "text/x-python",
   "name": "python",
   "nbconvert_exporter": "python",
   "pygments_lexer": "ipython3",
   "version": "3.7.4"
  }
 },
 "nbformat": 4,
 "nbformat_minor": 2
}
